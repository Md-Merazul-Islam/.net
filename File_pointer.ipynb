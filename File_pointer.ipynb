{
  "nbformat": 4,
  "nbformat_minor": 0,
  "metadata": {
    "colab": {
      "provenance": [],
      "authorship_tag": "ABX9TyM+rc9gx2NotS1v6nvo8V3A",
      "include_colab_link": true
    },
    "kernelspec": {
      "name": "python3",
      "display_name": "Python 3"
    },
    "language_info": {
      "name": "python"
    }
  },
  "cells": [
    {
      "cell_type": "markdown",
      "metadata": {
        "id": "view-in-github",
        "colab_type": "text"
      },
      "source": [
        "<a href=\"https://colab.research.google.com/github/Md-Merazul-Islam/.net/blob/main/File_pointer.ipynb\" target=\"_parent\"><img src=\"https://colab.research.google.com/assets/colab-badge.svg\" alt=\"Open In Colab\"/></a>"
      ]
    },
    {
      "cell_type": "code",
      "source": [
        "from functools import reduce\n",
        "with open (\"./sample_data/test.txt\",\"r\") as file :\n",
        "    string = file.readlines()\n",
        "    #total line\n",
        "    print(len(string))\n",
        "    print(string)\n",
        "\n",
        "    #total words\n",
        "    num_of_word = list(map(lambda x: len(x.split()),string))\n",
        "    print(num_of_word)\n",
        "    total_word = reduce(lambda x, y: x+y,num_of_word)\n",
        "    print(total_word)\n",
        "\n",
        "    clean_str= list(map(lambda x: x.strip(),string))\n",
        "    nw= list(map(lambda x: (x.replace(\" \",\"\")).strip(),string))\n",
        "\n",
        "\n",
        "    print(nw)\n",
        "    #total character count\n",
        "    character_count = list(map(lambda x: len(x),nw ))\n",
        "    total_count_chrat= sum(character_count)\n",
        "    print(total_count_chrat)\n",
        "\n",
        "with open(\"./sample_data/counter.txt\",\"w+\") as file:\n",
        "  file.write(f\"Total line : {len(string)}\\nTotal Words : {total_word}\\nTotal chracter : {total_count_chrat}\" )\n",
        "  file.seek(0)\n",
        "  print(file.read())\n"
      ],
      "metadata": {
        "colab": {
          "base_uri": "https://localhost:8080/"
        },
        "id": "kmMbHSJo9wqN",
        "outputId": "cf075a1a-5611-4e8c-d726-5819560cab66"
      },
      "execution_count": null,
      "outputs": [
        {
          "output_type": "stream",
          "name": "stdout",
          "text": [
            "4\n",
            "['Hello \\n', 'Hello boy \\n', 'Hello boy ki  \\n', 'Hello boy ki koro ']\n",
            "[1, 2, 3, 4]\n",
            "10\n",
            "['Hello', 'Helloboy', 'Helloboyki', 'Helloboykikoro']\n",
            "37\n",
            "Total line : 4\n",
            "Total Words : 10\n",
            "Total chracter : 37\n"
          ]
        }
      ]
    },
    {
      "cell_type": "code",
      "source": [
        "with open (\"./sample_data/test.txt\",\"r\") as file :\n",
        "  # print(file.read())\n",
        "  print(file.tell())#cursor pointer show which index\n",
        "  print(file.read(5))\n",
        "  print(file.tell())\n",
        "  file.seek(0) #abar 0 num index e aslo\n",
        "  print(file.tell())\n",
        "\n",
        "\n",
        "  print(\"---------------\")"
      ],
      "metadata": {
        "colab": {
          "base_uri": "https://localhost:8080/"
        },
        "id": "VRnDCkcu2zRM",
        "outputId": "a287c072-d31d-4356-b0a3-df65e613192e"
      },
      "execution_count": null,
      "outputs": [
        {
          "output_type": "stream",
          "name": "stdout",
          "text": [
            "0\n",
            "Hello\n",
            "5\n",
            "0\n",
            "---------------\n"
          ]
        }
      ]
    },
    {
      "cell_type": "code",
      "execution_count": null,
      "metadata": {
        "id": "6MUiLYi1boCJ"
      },
      "outputs": [],
      "source": [
        "with open (\"./sample_data/test.txt\",\"w\") as file :\n",
        "\n",
        "  file.write (\"Hello \\n\")\n",
        "  file.write (\"Hello boy \\n\")\n",
        "  file.write (\"Hello boy ki  \\n\")\n",
        "  file.write (\"Hello boy ki koro \\n\")\n"
      ]
    },
    {
      "cell_type": "code",
      "source": [
        "with open (\"./sample_data/test.txt\",\"r\") as file :\n",
        "  print(file.read())"
      ],
      "metadata": {
        "colab": {
          "base_uri": "https://localhost:8080/"
        },
        "id": "hMfq0ISYsSNh",
        "outputId": "6d591a07-ee5e-46d6-cdef-3bb440d461c6"
      },
      "execution_count": null,
      "outputs": [
        {
          "output_type": "stream",
          "name": "stdout",
          "text": [
            "Hello \n",
            "Hello boy \n",
            "Hello boy ki  \n",
            "Hello boy ki koro \n",
            "new append\n"
          ]
        }
      ]
    },
    {
      "cell_type": "code",
      "source": [
        "with open (\"./sample_data/test.txt\",\"a\") as file :\n",
        "  file.write(\"new append\")"
      ],
      "metadata": {
        "id": "rfk53vhItOWN"
      },
      "execution_count": null,
      "outputs": []
    },
    {
      "cell_type": "code",
      "source": [],
      "metadata": {
        "colab": {
          "base_uri": "https://localhost:8080/"
        },
        "id": "-gy2_5oUtnlH",
        "outputId": "e518a60e-3b6f-4105-9d21-d93a5bbc7b26"
      },
      "execution_count": null,
      "outputs": [
        {
          "output_type": "stream",
          "name": "stdout",
          "text": [
            "0\n",
            "Hello \n",
            "Hello boy \n",
            "Hello boy ki  \n",
            "Hello boy ki koro \n",
            "new append\n"
          ]
        }
      ]
    }
  ]
}